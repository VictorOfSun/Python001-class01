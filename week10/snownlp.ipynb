{
 "cells": [
  {
   "cell_type": "code",
   "execution_count": 10,
   "metadata": {},
   "outputs": [],
   "source": [
    "from sqlalchemy import create_engine\n",
    "engine = create_engine('mysql+pymysql://root:@localhost:3306/test', echo=True)"
   ]
  },
  {
   "cell_type": "code",
   "execution_count": 11,
   "metadata": {},
   "outputs": [
    {
     "name": "stdout",
     "output_type": "stream",
     "text": [
      "2020-09-01 18:15:23,098 INFO sqlalchemy.engine.base.Engine SHOW VARIABLES LIKE 'sql_mode'\n",
      "2020-09-01 18:15:23,110 INFO sqlalchemy.engine.base.Engine {}\n",
      "2020-09-01 18:15:23,124 INFO sqlalchemy.engine.base.Engine SHOW VARIABLES LIKE 'lower_case_table_names'\n",
      "2020-09-01 18:15:23,125 INFO sqlalchemy.engine.base.Engine {}\n",
      "2020-09-01 18:15:23,167 INFO sqlalchemy.engine.base.Engine SELECT DATABASE()\n",
      "2020-09-01 18:15:23,168 INFO sqlalchemy.engine.base.Engine {}\n",
      "2020-09-01 18:15:23,172 INFO sqlalchemy.engine.base.Engine show collation where `Charset` = 'utf8mb4' and `Collation` = 'utf8mb4_bin'\n",
      "2020-09-01 18:15:23,175 INFO sqlalchemy.engine.base.Engine {}\n",
      "2020-09-01 18:15:23,191 INFO sqlalchemy.engine.base.Engine SELECT CAST('test plain returns' AS CHAR(60)) AS anon_1\n",
      "2020-09-01 18:15:23,193 INFO sqlalchemy.engine.base.Engine {}\n",
      "2020-09-01 18:15:23,197 INFO sqlalchemy.engine.base.Engine SELECT CAST('test unicode returns' AS CHAR(60)) AS anon_1\n",
      "2020-09-01 18:15:23,199 INFO sqlalchemy.engine.base.Engine {}\n",
      "2020-09-01 18:15:23,203 INFO sqlalchemy.engine.base.Engine SELECT CAST('test collated returns' AS CHAR CHARACTER SET utf8mb4) COLLATE utf8mb4_bin AS anon_1\n",
      "2020-09-01 18:15:23,205 INFO sqlalchemy.engine.base.Engine {}\n",
      "2020-09-01 18:15:23,212 INFO sqlalchemy.engine.base.Engine DESCRIBE `select * from phone_co`\n",
      "2020-09-01 18:15:23,214 INFO sqlalchemy.engine.base.Engine {}\n",
      "2020-09-01 18:15:23,242 INFO sqlalchemy.engine.base.Engine ROLLBACK\n",
      "2020-09-01 18:15:23,247 INFO sqlalchemy.engine.base.Engine select * from phone_co\n",
      "2020-09-01 18:15:23,248 INFO sqlalchemy.engine.base.Engine {}\n"
     ]
    }
   ],
   "source": [
    "import pandas as pd\n",
    "sql = \"select * from phone_co\"\n",
    "df1 = pd.read_sql(sql, engine)"
   ]
  },
  {
   "cell_type": "code",
   "execution_count": 12,
   "metadata": {},
   "outputs": [
    {
     "data": {
      "text/html": [
       "<div>\n",
       "<style scoped>\n",
       "    .dataframe tbody tr th:only-of-type {\n",
       "        vertical-align: middle;\n",
       "    }\n",
       "\n",
       "    .dataframe tbody tr th {\n",
       "        vertical-align: top;\n",
       "    }\n",
       "\n",
       "    .dataframe thead th {\n",
       "        text-align: right;\n",
       "    }\n",
       "</style>\n",
       "<table border=\"1\" class=\"dataframe\">\n",
       "  <thead>\n",
       "    <tr style=\"text-align: right;\">\n",
       "      <th></th>\n",
       "      <th>id</th>\n",
       "      <th>name</th>\n",
       "      <th>comment</th>\n",
       "      <th>time</th>\n",
       "      <th>sentiment</th>\n",
       "    </tr>\n",
       "  </thead>\n",
       "  <tbody>\n",
       "    <tr>\n",
       "      <th>0</th>\n",
       "      <td>1</td>\n",
       "      <td>MI 小米10 青春版 5G智能手机 哆啦A梦限定款 8GB+256GB</td>\n",
       "      <td>不喜欢水滴头 如果是升降摄像头或者屏下 再加钱我也肯定买</td>\n",
       "      <td>2020-08-31 22:40:06</td>\n",
       "      <td>0.218775</td>\n",
       "    </tr>\n",
       "    <tr>\n",
       "      <th>1</th>\n",
       "      <td>2</td>\n",
       "      <td>MI 小米10 青春版 5G智能手机 哆啦A梦限定款 8GB+256GB</td>\n",
       "      <td>那么问题来了，既然是来自未来，机器猫当时为什么没给康夫变一个智能手机[邪恶]</td>\n",
       "      <td>2020-08-31 22:40:06</td>\n",
       "      <td>0.998718</td>\n",
       "    </tr>\n",
       "    <tr>\n",
       "      <th>2</th>\n",
       "      <td>3</td>\n",
       "      <td>MI 小米10 青春版 5G智能手机 哆啦A梦限定款 8GB+256GB</td>\n",
       "      <td>因为没有基站</td>\n",
       "      <td>2020-08-31 22:40:06</td>\n",
       "      <td>0.500000</td>\n",
       "    </tr>\n",
       "    <tr>\n",
       "      <th>3</th>\n",
       "      <td>4</td>\n",
       "      <td>Redmi 红米K30 至尊纪念版 5G智能手机 8GB+512GB 薄荷绿</td>\n",
       "      <td>再抢最后一次，我累了</td>\n",
       "      <td>2020-08-31 22:40:06</td>\n",
       "      <td>0.440023</td>\n",
       "    </tr>\n",
       "    <tr>\n",
       "      <th>4</th>\n",
       "      <td>5</td>\n",
       "      <td>MI 小米10 青春版 5G智能手机 哆啦A梦限定款 8GB+256GB</td>\n",
       "      <td>我不带手机壳的嘛？</td>\n",
       "      <td>2020-08-31 22:40:06</td>\n",
       "      <td>0.166394</td>\n",
       "    </tr>\n",
       "  </tbody>\n",
       "</table>\n",
       "</div>"
      ],
      "text/plain": [
       "   id                                    name  \\\n",
       "0   1    MI 小米10 青春版 5G智能手机 哆啦A梦限定款 8GB+256GB   \n",
       "1   2    MI 小米10 青春版 5G智能手机 哆啦A梦限定款 8GB+256GB   \n",
       "2   3    MI 小米10 青春版 5G智能手机 哆啦A梦限定款 8GB+256GB   \n",
       "3   4  Redmi 红米K30 至尊纪念版 5G智能手机 8GB+512GB 薄荷绿   \n",
       "4   5    MI 小米10 青春版 5G智能手机 哆啦A梦限定款 8GB+256GB   \n",
       "\n",
       "                                   comment                 time  sentiment  \n",
       "0            不喜欢水滴头 如果是升降摄像头或者屏下 再加钱我也肯定买   2020-08-31 22:40:06   0.218775  \n",
       "1  那么问题来了，既然是来自未来，机器猫当时为什么没给康夫变一个智能手机[邪恶]   2020-08-31 22:40:06   0.998718  \n",
       "2                                  因为没有基站   2020-08-31 22:40:06   0.500000  \n",
       "3                              再抢最后一次，我累了   2020-08-31 22:40:06   0.440023  \n",
       "4                               我不带手机壳的嘛？   2020-08-31 22:40:06   0.166394  "
      ]
     },
     "execution_count": 12,
     "metadata": {},
     "output_type": "execute_result"
    }
   ],
   "source": [
    "df1.head()"
   ]
  },
  {
   "cell_type": "code",
   "execution_count": 13,
   "metadata": {},
   "outputs": [],
   "source": [
    "from snownlp import SnowNLP\n",
    "def _sentiment(text):\n",
    "    s = SnowNLP(text)\n",
    "    return s.sentiments"
   ]
  },
  {
   "cell_type": "code",
   "execution_count": 14,
   "metadata": {},
   "outputs": [],
   "source": [
    "df1[\"sentiment\"] = df1.comment.apply(_sentiment)"
   ]
  },
  {
   "cell_type": "code",
   "execution_count": 15,
   "metadata": {},
   "outputs": [
    {
     "data": {
      "text/html": [
       "<div>\n",
       "<style scoped>\n",
       "    .dataframe tbody tr th:only-of-type {\n",
       "        vertical-align: middle;\n",
       "    }\n",
       "\n",
       "    .dataframe tbody tr th {\n",
       "        vertical-align: top;\n",
       "    }\n",
       "\n",
       "    .dataframe thead th {\n",
       "        text-align: right;\n",
       "    }\n",
       "</style>\n",
       "<table border=\"1\" class=\"dataframe\">\n",
       "  <thead>\n",
       "    <tr style=\"text-align: right;\">\n",
       "      <th></th>\n",
       "      <th>id</th>\n",
       "      <th>name</th>\n",
       "      <th>comment</th>\n",
       "      <th>time</th>\n",
       "      <th>sentiment</th>\n",
       "    </tr>\n",
       "  </thead>\n",
       "  <tbody>\n",
       "    <tr>\n",
       "      <th>0</th>\n",
       "      <td>1</td>\n",
       "      <td>MI 小米10 青春版 5G智能手机 哆啦A梦限定款 8GB+256GB</td>\n",
       "      <td>不喜欢水滴头 如果是升降摄像头或者屏下 再加钱我也肯定买</td>\n",
       "      <td>2020-08-31 22:40:06</td>\n",
       "      <td>0.218775</td>\n",
       "    </tr>\n",
       "    <tr>\n",
       "      <th>1</th>\n",
       "      <td>2</td>\n",
       "      <td>MI 小米10 青春版 5G智能手机 哆啦A梦限定款 8GB+256GB</td>\n",
       "      <td>那么问题来了，既然是来自未来，机器猫当时为什么没给康夫变一个智能手机[邪恶]</td>\n",
       "      <td>2020-08-31 22:40:06</td>\n",
       "      <td>0.998718</td>\n",
       "    </tr>\n",
       "    <tr>\n",
       "      <th>2</th>\n",
       "      <td>3</td>\n",
       "      <td>MI 小米10 青春版 5G智能手机 哆啦A梦限定款 8GB+256GB</td>\n",
       "      <td>因为没有基站</td>\n",
       "      <td>2020-08-31 22:40:06</td>\n",
       "      <td>0.500000</td>\n",
       "    </tr>\n",
       "    <tr>\n",
       "      <th>3</th>\n",
       "      <td>4</td>\n",
       "      <td>Redmi 红米K30 至尊纪念版 5G智能手机 8GB+512GB 薄荷绿</td>\n",
       "      <td>再抢最后一次，我累了</td>\n",
       "      <td>2020-08-31 22:40:06</td>\n",
       "      <td>0.440023</td>\n",
       "    </tr>\n",
       "    <tr>\n",
       "      <th>4</th>\n",
       "      <td>5</td>\n",
       "      <td>MI 小米10 青春版 5G智能手机 哆啦A梦限定款 8GB+256GB</td>\n",
       "      <td>我不带手机壳的嘛？</td>\n",
       "      <td>2020-08-31 22:40:06</td>\n",
       "      <td>0.166394</td>\n",
       "    </tr>\n",
       "  </tbody>\n",
       "</table>\n",
       "</div>"
      ],
      "text/plain": [
       "   id                                    name  \\\n",
       "0   1    MI 小米10 青春版 5G智能手机 哆啦A梦限定款 8GB+256GB   \n",
       "1   2    MI 小米10 青春版 5G智能手机 哆啦A梦限定款 8GB+256GB   \n",
       "2   3    MI 小米10 青春版 5G智能手机 哆啦A梦限定款 8GB+256GB   \n",
       "3   4  Redmi 红米K30 至尊纪念版 5G智能手机 8GB+512GB 薄荷绿   \n",
       "4   5    MI 小米10 青春版 5G智能手机 哆啦A梦限定款 8GB+256GB   \n",
       "\n",
       "                                   comment                 time  sentiment  \n",
       "0            不喜欢水滴头 如果是升降摄像头或者屏下 再加钱我也肯定买   2020-08-31 22:40:06   0.218775  \n",
       "1  那么问题来了，既然是来自未来，机器猫当时为什么没给康夫变一个智能手机[邪恶]   2020-08-31 22:40:06   0.998718  \n",
       "2                                  因为没有基站   2020-08-31 22:40:06   0.500000  \n",
       "3                              再抢最后一次，我累了   2020-08-31 22:40:06   0.440023  \n",
       "4                               我不带手机壳的嘛？   2020-08-31 22:40:06   0.166394  "
      ]
     },
     "execution_count": 15,
     "metadata": {},
     "output_type": "execute_result"
    }
   ],
   "source": [
    "df1.head()"
   ]
  },
  {
   "cell_type": "code",
   "execution_count": 16,
   "metadata": {},
   "outputs": [],
   "source": [
    "from pymysql import *\n",
    "# 创建connection连接\n",
    "conn = connect(host='127.0.0.1', port=3306, database='test', user='root',\n",
    "                   password='', charset='utf8')\n",
    "# 获取cursor对象\n",
    "cs1 = conn.cursor()"
   ]
  },
  {
   "cell_type": "code",
   "execution_count": 17,
   "metadata": {},
   "outputs": [],
   "source": [
    "for i in range(len(df1)):\n",
    "    update_sql = \"update phone_co set sentiment = \" + str(df1[\"sentiment\"][i]) + \"where id = \" + str(df1[\"id\"][i])\n",
    "#     print(update_sql)\n",
    "    cs1.execute(update_sql)"
   ]
  },
  {
   "cell_type": "code",
   "execution_count": 18,
   "metadata": {},
   "outputs": [],
   "source": [
    "# 提交之前的操作，如果之前已经执行多次的execute，那么就都进行提交\n",
    "conn.commit()\n",
    "\n",
    "# 关闭cursor对象\n",
    "cs1.close()\n",
    "# 关闭connection对象\n",
    "conn.close()"
   ]
  },
  {
   "cell_type": "code",
   "execution_count": null,
   "metadata": {},
   "outputs": [],
   "source": []
  }
 ],
 "metadata": {
  "kernelspec": {
   "display_name": "Python 3",
   "language": "python",
   "name": "python3"
  },
  "language_info": {
   "codemirror_mode": {
    "name": "ipython",
    "version": 3
   },
   "file_extension": ".py",
   "mimetype": "text/x-python",
   "name": "python",
   "nbconvert_exporter": "python",
   "pygments_lexer": "ipython3",
   "version": "3.7.3"
  }
 },
 "nbformat": 4,
 "nbformat_minor": 4
}
